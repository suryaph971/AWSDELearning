{
  "nbformat": 4,
  "nbformat_minor": 0,
  "metadata": {
    "colab": {
      "provenance": [],
      "authorship_tag": "ABX9TyNEtoXaBH9uWmY92350hWKs",
      "include_colab_link": true
    },
    "kernelspec": {
      "name": "python3",
      "display_name": "Python 3"
    },
    "language_info": {
      "name": "python"
    }
  },
  "cells": [
    {
      "cell_type": "markdown",
      "metadata": {
        "id": "view-in-github",
        "colab_type": "text"
      },
      "source": [
        "<a href=\"https://colab.research.google.com/github/suryaph971/AWSDELearning/blob/master/2B_langchain_embeddings_pinecone_similarity_search.ipynb\" target=\"_parent\"><img src=\"https://colab.research.google.com/assets/colab-badge.svg\" alt=\"Open In Colab\"/></a>"
      ]
    },
    {
      "cell_type": "code",
      "execution_count": 1,
      "metadata": {
        "colab": {
          "base_uri": "https://localhost:8080/"
        },
        "id": "kW_ZlPI2q99q",
        "outputId": "e9118a0f-b3ec-48fb-fa25-b4ea329150f7"
      },
      "outputs": [
        {
          "output_type": "stream",
          "name": "stdout",
          "text": [
            "Requirement already satisfied: openai in /usr/local/lib/python3.11/dist-packages (from -r requirements.txt (line 1)) (1.97.1)\n",
            "Requirement already satisfied: langchain in /usr/local/lib/python3.11/dist-packages (from -r requirements.txt (line 2)) (0.2.17)\n",
            "Requirement already satisfied: langchain_openai in /usr/local/lib/python3.11/dist-packages (from -r requirements.txt (line 3)) (0.3.28)\n",
            "Requirement already satisfied: langchain-cohere in /usr/local/lib/python3.11/dist-packages (from -r requirements.txt (line 4)) (0.2.4)\n",
            "Requirement already satisfied: langchain_experimental in /usr/local/lib/python3.11/dist-packages (from -r requirements.txt (line 5)) (0.0.65)\n",
            "Requirement already satisfied: langchainhub in /usr/local/lib/python3.11/dist-packages (from -r requirements.txt (line 6)) (0.1.21)\n",
            "Requirement already satisfied: pinecone-client in /usr/local/lib/python3.11/dist-packages (from -r requirements.txt (line 7)) (6.0.0)\n",
            "Requirement already satisfied: python-dotenv in /usr/local/lib/python3.11/dist-packages (from -r requirements.txt (line 8)) (1.1.1)\n",
            "Requirement already satisfied: tiktoken in /usr/local/lib/python3.11/dist-packages (from -r requirements.txt (line 9)) (0.9.0)\n",
            "Requirement already satisfied: docx2txt in /usr/local/lib/python3.11/dist-packages (from -r requirements.txt (line 10)) (0.9)\n",
            "Requirement already satisfied: pypdf in /usr/local/lib/python3.11/dist-packages (from -r requirements.txt (line 11)) (5.9.0)\n",
            "Requirement already satisfied: requests in /usr/local/lib/python3.11/dist-packages (from -r requirements.txt (line 12)) (2.32.3)\n",
            "Requirement already satisfied: numpy in /usr/local/lib/python3.11/dist-packages (from -r requirements.txt (line 13)) (1.26.4)\n",
            "Requirement already satisfied: pandas in /usr/local/lib/python3.11/dist-packages (from -r requirements.txt (line 14)) (2.2.2)\n",
            "Requirement already satisfied: anyio<5,>=3.5.0 in /usr/local/lib/python3.11/dist-packages (from openai->-r requirements.txt (line 1)) (4.9.0)\n",
            "Requirement already satisfied: distro<2,>=1.7.0 in /usr/local/lib/python3.11/dist-packages (from openai->-r requirements.txt (line 1)) (1.9.0)\n",
            "Requirement already satisfied: httpx<1,>=0.23.0 in /usr/local/lib/python3.11/dist-packages (from openai->-r requirements.txt (line 1)) (0.28.1)\n",
            "Requirement already satisfied: jiter<1,>=0.4.0 in /usr/local/lib/python3.11/dist-packages (from openai->-r requirements.txt (line 1)) (0.10.0)\n",
            "Requirement already satisfied: pydantic<3,>=1.9.0 in /usr/local/lib/python3.11/dist-packages (from openai->-r requirements.txt (line 1)) (2.11.7)\n",
            "Requirement already satisfied: sniffio in /usr/local/lib/python3.11/dist-packages (from openai->-r requirements.txt (line 1)) (1.3.1)\n",
            "Requirement already satisfied: tqdm>4 in /usr/local/lib/python3.11/dist-packages (from openai->-r requirements.txt (line 1)) (4.67.1)\n",
            "Requirement already satisfied: typing-extensions<5,>=4.11 in /usr/local/lib/python3.11/dist-packages (from openai->-r requirements.txt (line 1)) (4.14.1)\n",
            "Requirement already satisfied: PyYAML>=5.3 in /usr/local/lib/python3.11/dist-packages (from langchain->-r requirements.txt (line 2)) (6.0.2)\n",
            "Requirement already satisfied: SQLAlchemy<3,>=1.4 in /usr/local/lib/python3.11/dist-packages (from langchain->-r requirements.txt (line 2)) (2.0.41)\n",
            "Requirement already satisfied: aiohttp<4.0.0,>=3.8.3 in /usr/local/lib/python3.11/dist-packages (from langchain->-r requirements.txt (line 2)) (3.12.14)\n",
            "Collecting langchain-core<0.3.0,>=0.2.43 (from langchain->-r requirements.txt (line 2))\n",
            "  Using cached langchain_core-0.2.43-py3-none-any.whl.metadata (6.2 kB)\n",
            "Requirement already satisfied: langchain-text-splitters<0.3.0,>=0.2.0 in /usr/local/lib/python3.11/dist-packages (from langchain->-r requirements.txt (line 2)) (0.2.4)\n",
            "Collecting langsmith<0.2.0,>=0.1.17 (from langchain->-r requirements.txt (line 2))\n",
            "  Using cached langsmith-0.1.147-py3-none-any.whl.metadata (14 kB)\n",
            "Requirement already satisfied: tenacity!=8.4.0,<9.0.0,>=8.1.0 in /usr/local/lib/python3.11/dist-packages (from langchain->-r requirements.txt (line 2)) (8.5.0)\n",
            "INFO: pip is looking at multiple versions of langchain-openai to determine which version is compatible with other requirements. This could take a while.\n",
            "Collecting langchain_openai (from -r requirements.txt (line 3))\n",
            "  Downloading langchain_openai-0.3.27-py3-none-any.whl.metadata (2.3 kB)\n",
            "  Downloading langchain_openai-0.3.26-py3-none-any.whl.metadata (2.3 kB)\n",
            "  Downloading langchain_openai-0.3.25-py3-none-any.whl.metadata (2.3 kB)\n",
            "  Downloading langchain_openai-0.3.24-py3-none-any.whl.metadata (2.3 kB)\n",
            "  Downloading langchain_openai-0.3.23-py3-none-any.whl.metadata (2.3 kB)\n",
            "  Downloading langchain_openai-0.3.22-py3-none-any.whl.metadata (2.3 kB)\n",
            "  Downloading langchain_openai-0.3.21-py3-none-any.whl.metadata (2.3 kB)\n",
            "INFO: pip is still looking at multiple versions of langchain-openai to determine which version is compatible with other requirements. This could take a while.\n",
            "  Downloading langchain_openai-0.3.20-py3-none-any.whl.metadata (2.3 kB)\n",
            "  Downloading langchain_openai-0.3.19-py3-none-any.whl.metadata (2.3 kB)\n",
            "  Downloading langchain_openai-0.3.18-py3-none-any.whl.metadata (2.3 kB)\n",
            "  Downloading langchain_openai-0.3.17-py3-none-any.whl.metadata (2.3 kB)\n",
            "  Downloading langchain_openai-0.3.16-py3-none-any.whl.metadata (2.3 kB)\n",
            "INFO: This is taking longer than usual. You might need to provide the dependency resolver with stricter constraints to reduce runtime. See https://pip.pypa.io/warnings/backtracking for guidance. If you want to abort this run, press Ctrl + C.\n",
            "  Downloading langchain_openai-0.3.15-py3-none-any.whl.metadata (2.3 kB)\n",
            "  Downloading langchain_openai-0.3.14-py3-none-any.whl.metadata (2.3 kB)\n",
            "  Downloading langchain_openai-0.3.13-py3-none-any.whl.metadata (2.3 kB)\n",
            "  Downloading langchain_openai-0.3.12-py3-none-any.whl.metadata (2.3 kB)\n",
            "  Downloading langchain_openai-0.3.11-py3-none-any.whl.metadata (2.3 kB)\n",
            "  Downloading langchain_openai-0.3.10-py3-none-any.whl.metadata (2.3 kB)\n",
            "  Downloading langchain_openai-0.3.9-py3-none-any.whl.metadata (2.3 kB)\n",
            "  Downloading langchain_openai-0.3.8-py3-none-any.whl.metadata (2.3 kB)\n",
            "  Downloading langchain_openai-0.3.7-py3-none-any.whl.metadata (2.3 kB)\n",
            "  Downloading langchain_openai-0.3.6-py3-none-any.whl.metadata (2.3 kB)\n",
            "  Downloading langchain_openai-0.3.5-py3-none-any.whl.metadata (2.3 kB)\n",
            "  Downloading langchain_openai-0.3.4-py3-none-any.whl.metadata (2.3 kB)\n",
            "  Downloading langchain_openai-0.3.3-py3-none-any.whl.metadata (2.7 kB)\n",
            "  Downloading langchain_openai-0.3.2-py3-none-any.whl.metadata (2.7 kB)\n",
            "  Downloading langchain_openai-0.3.1-py3-none-any.whl.metadata (2.7 kB)\n",
            "  Downloading langchain_openai-0.3.0-py3-none-any.whl.metadata (2.7 kB)\n",
            "  Downloading langchain_openai-0.2.14-py3-none-any.whl.metadata (2.7 kB)\n",
            "  Downloading langchain_openai-0.2.13-py3-none-any.whl.metadata (2.7 kB)\n",
            "  Downloading langchain_openai-0.2.12-py3-none-any.whl.metadata (2.7 kB)\n",
            "  Downloading langchain_openai-0.2.11-py3-none-any.whl.metadata (2.7 kB)\n",
            "  Downloading langchain_openai-0.2.10-py3-none-any.whl.metadata (2.6 kB)\n",
            "  Downloading langchain_openai-0.2.9-py3-none-any.whl.metadata (2.6 kB)\n",
            "  Downloading langchain_openai-0.2.8-py3-none-any.whl.metadata (2.6 kB)\n",
            "  Downloading langchain_openai-0.2.7-py3-none-any.whl.metadata (2.6 kB)\n",
            "  Downloading langchain_openai-0.2.6-py3-none-any.whl.metadata (2.6 kB)\n",
            "  Downloading langchain_openai-0.2.5-py3-none-any.whl.metadata (2.6 kB)\n",
            "  Downloading langchain_openai-0.2.4-py3-none-any.whl.metadata (2.6 kB)\n",
            "  Downloading langchain_openai-0.2.3-py3-none-any.whl.metadata (2.6 kB)\n",
            "  Downloading langchain_openai-0.2.2-py3-none-any.whl.metadata (2.6 kB)\n",
            "  Downloading langchain_openai-0.2.1-py3-none-any.whl.metadata (2.6 kB)\n",
            "  Downloading langchain_openai-0.2.0-py3-none-any.whl.metadata (2.6 kB)\n",
            "  Downloading langchain_openai-0.1.25-py3-none-any.whl.metadata (2.6 kB)\n",
            "Requirement already satisfied: cohere<6.0,>=5.5.6 in /usr/local/lib/python3.11/dist-packages (from langchain-cohere->-r requirements.txt (line 4)) (5.16.1)\n",
            "Requirement already satisfied: tabulate<0.10.0,>=0.9.0 in /usr/local/lib/python3.11/dist-packages (from langchain-cohere->-r requirements.txt (line 4)) (0.9.0)\n",
            "Requirement already satisfied: langchain-community<0.3.0,>=0.2.16 in /usr/local/lib/python3.11/dist-packages (from langchain_experimental->-r requirements.txt (line 5)) (0.2.19)\n",
            "Requirement already satisfied: packaging<25,>=23.2 in /usr/local/lib/python3.11/dist-packages (from langchainhub->-r requirements.txt (line 6)) (24.2)\n",
            "Requirement already satisfied: types-requests<3.0.0.0,>=2.31.0.2 in /usr/local/lib/python3.11/dist-packages (from langchainhub->-r requirements.txt (line 6)) (2.32.4.20250611)\n",
            "Requirement already satisfied: certifi>=2019.11.17 in /usr/local/lib/python3.11/dist-packages (from pinecone-client->-r requirements.txt (line 7)) (2025.7.14)\n",
            "Requirement already satisfied: pinecone-plugin-interface<0.0.8,>=0.0.7 in /usr/local/lib/python3.11/dist-packages (from pinecone-client->-r requirements.txt (line 7)) (0.0.7)\n",
            "Requirement already satisfied: python-dateutil>=2.5.3 in /usr/local/lib/python3.11/dist-packages (from pinecone-client->-r requirements.txt (line 7)) (2.9.0.post0)\n",
            "Requirement already satisfied: urllib3>=1.26.0 in /usr/local/lib/python3.11/dist-packages (from pinecone-client->-r requirements.txt (line 7)) (2.5.0)\n",
            "Requirement already satisfied: regex>=2022.1.18 in /usr/local/lib/python3.11/dist-packages (from tiktoken->-r requirements.txt (line 9)) (2024.11.6)\n",
            "Requirement already satisfied: charset-normalizer<4,>=2 in /usr/local/lib/python3.11/dist-packages (from requests->-r requirements.txt (line 12)) (3.4.2)\n",
            "Requirement already satisfied: idna<4,>=2.5 in /usr/local/lib/python3.11/dist-packages (from requests->-r requirements.txt (line 12)) (3.10)\n",
            "Requirement already satisfied: pytz>=2020.1 in /usr/local/lib/python3.11/dist-packages (from pandas->-r requirements.txt (line 14)) (2025.2)\n",
            "Requirement already satisfied: tzdata>=2022.7 in /usr/local/lib/python3.11/dist-packages (from pandas->-r requirements.txt (line 14)) (2025.2)\n",
            "Requirement already satisfied: aiohappyeyeballs>=2.5.0 in /usr/local/lib/python3.11/dist-packages (from aiohttp<4.0.0,>=3.8.3->langchain->-r requirements.txt (line 2)) (2.6.1)\n",
            "Requirement already satisfied: aiosignal>=1.4.0 in /usr/local/lib/python3.11/dist-packages (from aiohttp<4.0.0,>=3.8.3->langchain->-r requirements.txt (line 2)) (1.4.0)\n",
            "Requirement already satisfied: attrs>=17.3.0 in /usr/local/lib/python3.11/dist-packages (from aiohttp<4.0.0,>=3.8.3->langchain->-r requirements.txt (line 2)) (25.3.0)\n",
            "Requirement already satisfied: frozenlist>=1.1.1 in /usr/local/lib/python3.11/dist-packages (from aiohttp<4.0.0,>=3.8.3->langchain->-r requirements.txt (line 2)) (1.7.0)\n",
            "Requirement already satisfied: multidict<7.0,>=4.5 in /usr/local/lib/python3.11/dist-packages (from aiohttp<4.0.0,>=3.8.3->langchain->-r requirements.txt (line 2)) (6.6.3)\n",
            "Requirement already satisfied: propcache>=0.2.0 in /usr/local/lib/python3.11/dist-packages (from aiohttp<4.0.0,>=3.8.3->langchain->-r requirements.txt (line 2)) (0.3.2)\n",
            "Requirement already satisfied: yarl<2.0,>=1.17.0 in /usr/local/lib/python3.11/dist-packages (from aiohttp<4.0.0,>=3.8.3->langchain->-r requirements.txt (line 2)) (1.20.1)\n",
            "Requirement already satisfied: fastavro<2.0.0,>=1.9.4 in /usr/local/lib/python3.11/dist-packages (from cohere<6.0,>=5.5.6->langchain-cohere->-r requirements.txt (line 4)) (1.12.0)\n",
            "Requirement already satisfied: httpx-sse==0.4.0 in /usr/local/lib/python3.11/dist-packages (from cohere<6.0,>=5.5.6->langchain-cohere->-r requirements.txt (line 4)) (0.4.0)\n",
            "Requirement already satisfied: pydantic-core<3.0.0,>=2.18.2 in /usr/local/lib/python3.11/dist-packages (from cohere<6.0,>=5.5.6->langchain-cohere->-r requirements.txt (line 4)) (2.33.2)\n",
            "Requirement already satisfied: tokenizers<1,>=0.15 in /usr/local/lib/python3.11/dist-packages (from cohere<6.0,>=5.5.6->langchain-cohere->-r requirements.txt (line 4)) (0.21.2)\n",
            "Requirement already satisfied: httpcore==1.* in /usr/local/lib/python3.11/dist-packages (from httpx<1,>=0.23.0->openai->-r requirements.txt (line 1)) (1.0.9)\n",
            "Requirement already satisfied: h11>=0.16 in /usr/local/lib/python3.11/dist-packages (from httpcore==1.*->httpx<1,>=0.23.0->openai->-r requirements.txt (line 1)) (0.16.0)\n",
            "Requirement already satisfied: dataclasses-json<0.7,>=0.5.7 in /usr/local/lib/python3.11/dist-packages (from langchain-community<0.3.0,>=0.2.16->langchain_experimental->-r requirements.txt (line 5)) (0.6.7)\n",
            "Requirement already satisfied: jsonpatch<2.0,>=1.33 in /usr/local/lib/python3.11/dist-packages (from langchain-core<0.3.0,>=0.2.43->langchain->-r requirements.txt (line 2)) (1.33)\n",
            "Requirement already satisfied: orjson<4.0.0,>=3.9.14 in /usr/local/lib/python3.11/dist-packages (from langsmith<0.2.0,>=0.1.17->langchain->-r requirements.txt (line 2)) (3.11.1)\n",
            "Requirement already satisfied: requests-toolbelt<2.0.0,>=1.0.0 in /usr/local/lib/python3.11/dist-packages (from langsmith<0.2.0,>=0.1.17->langchain->-r requirements.txt (line 2)) (1.0.0)\n",
            "Requirement already satisfied: annotated-types>=0.6.0 in /usr/local/lib/python3.11/dist-packages (from pydantic<3,>=1.9.0->openai->-r requirements.txt (line 1)) (0.7.0)\n",
            "Requirement already satisfied: typing-inspection>=0.4.0 in /usr/local/lib/python3.11/dist-packages (from pydantic<3,>=1.9.0->openai->-r requirements.txt (line 1)) (0.4.1)\n",
            "Requirement already satisfied: six>=1.5 in /usr/local/lib/python3.11/dist-packages (from python-dateutil>=2.5.3->pinecone-client->-r requirements.txt (line 7)) (1.17.0)\n",
            "Requirement already satisfied: greenlet>=1 in /usr/local/lib/python3.11/dist-packages (from SQLAlchemy<3,>=1.4->langchain->-r requirements.txt (line 2)) (3.2.3)\n",
            "Requirement already satisfied: marshmallow<4.0.0,>=3.18.0 in /usr/local/lib/python3.11/dist-packages (from dataclasses-json<0.7,>=0.5.7->langchain-community<0.3.0,>=0.2.16->langchain_experimental->-r requirements.txt (line 5)) (3.26.1)\n",
            "Requirement already satisfied: typing-inspect<1,>=0.4.0 in /usr/local/lib/python3.11/dist-packages (from dataclasses-json<0.7,>=0.5.7->langchain-community<0.3.0,>=0.2.16->langchain_experimental->-r requirements.txt (line 5)) (0.9.0)\n",
            "Requirement already satisfied: jsonpointer>=1.9 in /usr/local/lib/python3.11/dist-packages (from jsonpatch<2.0,>=1.33->langchain-core<0.3.0,>=0.2.43->langchain->-r requirements.txt (line 2)) (3.0.0)\n",
            "Requirement already satisfied: huggingface-hub<1.0,>=0.16.4 in /usr/local/lib/python3.11/dist-packages (from tokenizers<1,>=0.15->cohere<6.0,>=5.5.6->langchain-cohere->-r requirements.txt (line 4)) (0.34.1)\n",
            "Requirement already satisfied: filelock in /usr/local/lib/python3.11/dist-packages (from huggingface-hub<1.0,>=0.16.4->tokenizers<1,>=0.15->cohere<6.0,>=5.5.6->langchain-cohere->-r requirements.txt (line 4)) (3.18.0)\n",
            "Requirement already satisfied: fsspec>=2023.5.0 in /usr/local/lib/python3.11/dist-packages (from huggingface-hub<1.0,>=0.16.4->tokenizers<1,>=0.15->cohere<6.0,>=5.5.6->langchain-cohere->-r requirements.txt (line 4)) (2025.3.0)\n",
            "Requirement already satisfied: hf-xet<2.0.0,>=1.1.3 in /usr/local/lib/python3.11/dist-packages (from huggingface-hub<1.0,>=0.16.4->tokenizers<1,>=0.15->cohere<6.0,>=5.5.6->langchain-cohere->-r requirements.txt (line 4)) (1.1.5)\n",
            "Requirement already satisfied: mypy-extensions>=0.3.0 in /usr/local/lib/python3.11/dist-packages (from typing-inspect<1,>=0.4.0->dataclasses-json<0.7,>=0.5.7->langchain-community<0.3.0,>=0.2.16->langchain_experimental->-r requirements.txt (line 5)) (1.1.0)\n",
            "Downloading langchain_openai-0.1.25-py3-none-any.whl (51 kB)\n",
            "\u001b[2K   \u001b[90m━━━━━━━━━━━━━━━━━━━━━━━━━━━━━━━━━━━━━━━━\u001b[0m \u001b[32m51.5/51.5 kB\u001b[0m \u001b[31m2.0 MB/s\u001b[0m eta \u001b[36m0:00:00\u001b[0m\n",
            "\u001b[?25hUsing cached langchain_core-0.2.43-py3-none-any.whl (397 kB)\n",
            "Using cached langsmith-0.1.147-py3-none-any.whl (311 kB)\n",
            "Installing collected packages: langsmith, langchain-core, langchain_openai\n",
            "  Attempting uninstall: langsmith\n",
            "    Found existing installation: langsmith 0.4.10\n",
            "    Uninstalling langsmith-0.4.10:\n",
            "      Successfully uninstalled langsmith-0.4.10\n",
            "  Attempting uninstall: langchain-core\n",
            "    Found existing installation: langchain-core 0.3.72\n",
            "    Uninstalling langchain-core-0.3.72:\n",
            "      Successfully uninstalled langchain-core-0.3.72\n",
            "  Attempting uninstall: langchain_openai\n",
            "    Found existing installation: langchain-openai 0.3.28\n",
            "    Uninstalling langchain-openai-0.3.28:\n",
            "      Successfully uninstalled langchain-openai-0.3.28\n",
            "\u001b[31mERROR: pip's dependency resolver does not currently take into account all the packages that are installed. This behaviour is the source of the following dependency conflicts.\n",
            "langchain-pinecone 0.2.11 requires langchain-core<1.0.0,>=0.3.34, but you have langchain-core 0.2.43 which is incompatible.\n",
            "langchain-pinecone 0.2.11 requires langchain-openai>=0.3.11, but you have langchain-openai 0.1.25 which is incompatible.\n",
            "langchain-tests 0.3.20 requires langchain-core<1.0.0,>=0.3.63, but you have langchain-core 0.2.43 which is incompatible.\u001b[0m\u001b[31m\n",
            "\u001b[0mSuccessfully installed langchain-core-0.2.43 langchain_openai-0.1.25 langsmith-0.1.147\n"
          ]
        }
      ],
      "source": [
        "pip install -r requirements.txt"
      ]
    },
    {
      "cell_type": "code",
      "source": [
        "pip install pinecone"
      ],
      "metadata": {
        "colab": {
          "base_uri": "https://localhost:8080/"
        },
        "id": "E_yIuPxm2C2N",
        "outputId": "a39deaca-4e36-4648-dfa1-a0654e615b6a"
      },
      "execution_count": 11,
      "outputs": [
        {
          "output_type": "stream",
          "name": "stdout",
          "text": [
            "Requirement already satisfied: pinecone in /usr/local/lib/python3.11/dist-packages (7.3.0)\n",
            "Requirement already satisfied: certifi>=2019.11.17 in /usr/local/lib/python3.11/dist-packages (from pinecone) (2025.7.14)\n",
            "Requirement already satisfied: pinecone-plugin-assistant<2.0.0,>=1.6.0 in /usr/local/lib/python3.11/dist-packages (from pinecone) (1.7.0)\n",
            "Requirement already satisfied: pinecone-plugin-interface<0.0.8,>=0.0.7 in /usr/local/lib/python3.11/dist-packages (from pinecone) (0.0.7)\n",
            "Requirement already satisfied: python-dateutil>=2.5.3 in /usr/local/lib/python3.11/dist-packages (from pinecone) (2.9.0.post0)\n",
            "Requirement already satisfied: typing-extensions>=3.7.4 in /usr/local/lib/python3.11/dist-packages (from pinecone) (4.14.1)\n",
            "Requirement already satisfied: urllib3>=1.26.0 in /usr/local/lib/python3.11/dist-packages (from pinecone) (2.5.0)\n",
            "Requirement already satisfied: packaging<25.0,>=24.2 in /usr/local/lib/python3.11/dist-packages (from pinecone-plugin-assistant<2.0.0,>=1.6.0->pinecone) (24.2)\n",
            "Requirement already satisfied: requests<3.0.0,>=2.32.3 in /usr/local/lib/python3.11/dist-packages (from pinecone-plugin-assistant<2.0.0,>=1.6.0->pinecone) (2.32.3)\n",
            "Requirement already satisfied: six>=1.5 in /usr/local/lib/python3.11/dist-packages (from python-dateutil>=2.5.3->pinecone) (1.17.0)\n",
            "Requirement already satisfied: charset-normalizer<4,>=2 in /usr/local/lib/python3.11/dist-packages (from requests<3.0.0,>=2.32.3->pinecone-plugin-assistant<2.0.0,>=1.6.0->pinecone) (3.4.2)\n",
            "Requirement already satisfied: idna<4,>=2.5 in /usr/local/lib/python3.11/dist-packages (from requests<3.0.0,>=2.32.3->pinecone-plugin-assistant<2.0.0,>=1.6.0->pinecone) (3.10)\n"
          ]
        }
      ]
    },
    {
      "cell_type": "code",
      "source": [
        "pip install langchain-cohere"
      ],
      "metadata": {
        "colab": {
          "base_uri": "https://localhost:8080/"
        },
        "id": "QxKmh7J70Jod",
        "outputId": "95f6489b-55ba-4346-e46f-f9a5369c6da4"
      },
      "execution_count": 12,
      "outputs": [
        {
          "output_type": "stream",
          "name": "stdout",
          "text": [
            "Requirement already satisfied: langchain-cohere in /usr/local/lib/python3.11/dist-packages (0.2.4)\n",
            "Requirement already satisfied: cohere<6.0,>=5.5.6 in /usr/local/lib/python3.11/dist-packages (from langchain-cohere) (5.16.1)\n",
            "Requirement already satisfied: langchain-core<0.3,>=0.2.33 in /usr/local/lib/python3.11/dist-packages (from langchain-cohere) (0.2.43)\n",
            "Requirement already satisfied: langchain-experimental>=0.0.6 in /usr/local/lib/python3.11/dist-packages (from langchain-cohere) (0.0.65)\n",
            "Requirement already satisfied: pandas>=1.4.3 in /usr/local/lib/python3.11/dist-packages (from langchain-cohere) (2.2.2)\n",
            "Requirement already satisfied: tabulate<0.10.0,>=0.9.0 in /usr/local/lib/python3.11/dist-packages (from langchain-cohere) (0.9.0)\n",
            "Requirement already satisfied: fastavro<2.0.0,>=1.9.4 in /usr/local/lib/python3.11/dist-packages (from cohere<6.0,>=5.5.6->langchain-cohere) (1.12.0)\n",
            "Requirement already satisfied: httpx>=0.21.2 in /usr/local/lib/python3.11/dist-packages (from cohere<6.0,>=5.5.6->langchain-cohere) (0.28.1)\n",
            "Requirement already satisfied: httpx-sse==0.4.0 in /usr/local/lib/python3.11/dist-packages (from cohere<6.0,>=5.5.6->langchain-cohere) (0.4.0)\n",
            "Requirement already satisfied: pydantic>=1.9.2 in /usr/local/lib/python3.11/dist-packages (from cohere<6.0,>=5.5.6->langchain-cohere) (2.11.7)\n",
            "Requirement already satisfied: pydantic-core<3.0.0,>=2.18.2 in /usr/local/lib/python3.11/dist-packages (from cohere<6.0,>=5.5.6->langchain-cohere) (2.33.2)\n",
            "Requirement already satisfied: requests<3.0.0,>=2.0.0 in /usr/local/lib/python3.11/dist-packages (from cohere<6.0,>=5.5.6->langchain-cohere) (2.32.3)\n",
            "Requirement already satisfied: tokenizers<1,>=0.15 in /usr/local/lib/python3.11/dist-packages (from cohere<6.0,>=5.5.6->langchain-cohere) (0.21.2)\n",
            "Requirement already satisfied: types-requests<3.0.0,>=2.0.0 in /usr/local/lib/python3.11/dist-packages (from cohere<6.0,>=5.5.6->langchain-cohere) (2.32.4.20250611)\n",
            "Requirement already satisfied: typing_extensions>=4.0.0 in /usr/local/lib/python3.11/dist-packages (from cohere<6.0,>=5.5.6->langchain-cohere) (4.14.1)\n",
            "Requirement already satisfied: PyYAML>=5.3 in /usr/local/lib/python3.11/dist-packages (from langchain-core<0.3,>=0.2.33->langchain-cohere) (6.0.2)\n",
            "Requirement already satisfied: jsonpatch<2.0,>=1.33 in /usr/local/lib/python3.11/dist-packages (from langchain-core<0.3,>=0.2.33->langchain-cohere) (1.33)\n",
            "Requirement already satisfied: langsmith<0.2.0,>=0.1.112 in /usr/local/lib/python3.11/dist-packages (from langchain-core<0.3,>=0.2.33->langchain-cohere) (0.1.147)\n",
            "Requirement already satisfied: packaging<25,>=23.2 in /usr/local/lib/python3.11/dist-packages (from langchain-core<0.3,>=0.2.33->langchain-cohere) (24.2)\n",
            "Requirement already satisfied: tenacity!=8.4.0,<9.0.0,>=8.1.0 in /usr/local/lib/python3.11/dist-packages (from langchain-core<0.3,>=0.2.33->langchain-cohere) (8.5.0)\n",
            "Requirement already satisfied: langchain-community<0.3.0,>=0.2.16 in /usr/local/lib/python3.11/dist-packages (from langchain-experimental>=0.0.6->langchain-cohere) (0.2.19)\n",
            "Requirement already satisfied: numpy>=1.23.2 in /usr/local/lib/python3.11/dist-packages (from pandas>=1.4.3->langchain-cohere) (1.26.4)\n",
            "Requirement already satisfied: python-dateutil>=2.8.2 in /usr/local/lib/python3.11/dist-packages (from pandas>=1.4.3->langchain-cohere) (2.9.0.post0)\n",
            "Requirement already satisfied: pytz>=2020.1 in /usr/local/lib/python3.11/dist-packages (from pandas>=1.4.3->langchain-cohere) (2025.2)\n",
            "Requirement already satisfied: tzdata>=2022.7 in /usr/local/lib/python3.11/dist-packages (from pandas>=1.4.3->langchain-cohere) (2025.2)\n",
            "Requirement already satisfied: anyio in /usr/local/lib/python3.11/dist-packages (from httpx>=0.21.2->cohere<6.0,>=5.5.6->langchain-cohere) (4.9.0)\n",
            "Requirement already satisfied: certifi in /usr/local/lib/python3.11/dist-packages (from httpx>=0.21.2->cohere<6.0,>=5.5.6->langchain-cohere) (2025.7.14)\n",
            "Requirement already satisfied: httpcore==1.* in /usr/local/lib/python3.11/dist-packages (from httpx>=0.21.2->cohere<6.0,>=5.5.6->langchain-cohere) (1.0.9)\n",
            "Requirement already satisfied: idna in /usr/local/lib/python3.11/dist-packages (from httpx>=0.21.2->cohere<6.0,>=5.5.6->langchain-cohere) (3.10)\n",
            "Requirement already satisfied: h11>=0.16 in /usr/local/lib/python3.11/dist-packages (from httpcore==1.*->httpx>=0.21.2->cohere<6.0,>=5.5.6->langchain-cohere) (0.16.0)\n",
            "Requirement already satisfied: jsonpointer>=1.9 in /usr/local/lib/python3.11/dist-packages (from jsonpatch<2.0,>=1.33->langchain-core<0.3,>=0.2.33->langchain-cohere) (3.0.0)\n",
            "Requirement already satisfied: SQLAlchemy<3,>=1.4 in /usr/local/lib/python3.11/dist-packages (from langchain-community<0.3.0,>=0.2.16->langchain-experimental>=0.0.6->langchain-cohere) (2.0.41)\n",
            "Requirement already satisfied: aiohttp<4.0.0,>=3.8.3 in /usr/local/lib/python3.11/dist-packages (from langchain-community<0.3.0,>=0.2.16->langchain-experimental>=0.0.6->langchain-cohere) (3.12.14)\n",
            "Requirement already satisfied: dataclasses-json<0.7,>=0.5.7 in /usr/local/lib/python3.11/dist-packages (from langchain-community<0.3.0,>=0.2.16->langchain-experimental>=0.0.6->langchain-cohere) (0.6.7)\n",
            "Requirement already satisfied: langchain<0.3.0,>=0.2.17 in /usr/local/lib/python3.11/dist-packages (from langchain-community<0.3.0,>=0.2.16->langchain-experimental>=0.0.6->langchain-cohere) (0.2.17)\n",
            "Requirement already satisfied: orjson<4.0.0,>=3.9.14 in /usr/local/lib/python3.11/dist-packages (from langsmith<0.2.0,>=0.1.112->langchain-core<0.3,>=0.2.33->langchain-cohere) (3.11.1)\n",
            "Requirement already satisfied: requests-toolbelt<2.0.0,>=1.0.0 in /usr/local/lib/python3.11/dist-packages (from langsmith<0.2.0,>=0.1.112->langchain-core<0.3,>=0.2.33->langchain-cohere) (1.0.0)\n",
            "Requirement already satisfied: annotated-types>=0.6.0 in /usr/local/lib/python3.11/dist-packages (from pydantic>=1.9.2->cohere<6.0,>=5.5.6->langchain-cohere) (0.7.0)\n",
            "Requirement already satisfied: typing-inspection>=0.4.0 in /usr/local/lib/python3.11/dist-packages (from pydantic>=1.9.2->cohere<6.0,>=5.5.6->langchain-cohere) (0.4.1)\n",
            "Requirement already satisfied: six>=1.5 in /usr/local/lib/python3.11/dist-packages (from python-dateutil>=2.8.2->pandas>=1.4.3->langchain-cohere) (1.17.0)\n",
            "Requirement already satisfied: charset-normalizer<4,>=2 in /usr/local/lib/python3.11/dist-packages (from requests<3.0.0,>=2.0.0->cohere<6.0,>=5.5.6->langchain-cohere) (3.4.2)\n",
            "Requirement already satisfied: urllib3<3,>=1.21.1 in /usr/local/lib/python3.11/dist-packages (from requests<3.0.0,>=2.0.0->cohere<6.0,>=5.5.6->langchain-cohere) (2.5.0)\n",
            "Requirement already satisfied: huggingface-hub<1.0,>=0.16.4 in /usr/local/lib/python3.11/dist-packages (from tokenizers<1,>=0.15->cohere<6.0,>=5.5.6->langchain-cohere) (0.34.1)\n",
            "Requirement already satisfied: aiohappyeyeballs>=2.5.0 in /usr/local/lib/python3.11/dist-packages (from aiohttp<4.0.0,>=3.8.3->langchain-community<0.3.0,>=0.2.16->langchain-experimental>=0.0.6->langchain-cohere) (2.6.1)\n",
            "Requirement already satisfied: aiosignal>=1.4.0 in /usr/local/lib/python3.11/dist-packages (from aiohttp<4.0.0,>=3.8.3->langchain-community<0.3.0,>=0.2.16->langchain-experimental>=0.0.6->langchain-cohere) (1.4.0)\n",
            "Requirement already satisfied: attrs>=17.3.0 in /usr/local/lib/python3.11/dist-packages (from aiohttp<4.0.0,>=3.8.3->langchain-community<0.3.0,>=0.2.16->langchain-experimental>=0.0.6->langchain-cohere) (25.3.0)\n",
            "Requirement already satisfied: frozenlist>=1.1.1 in /usr/local/lib/python3.11/dist-packages (from aiohttp<4.0.0,>=3.8.3->langchain-community<0.3.0,>=0.2.16->langchain-experimental>=0.0.6->langchain-cohere) (1.7.0)\n",
            "Requirement already satisfied: multidict<7.0,>=4.5 in /usr/local/lib/python3.11/dist-packages (from aiohttp<4.0.0,>=3.8.3->langchain-community<0.3.0,>=0.2.16->langchain-experimental>=0.0.6->langchain-cohere) (6.6.3)\n",
            "Requirement already satisfied: propcache>=0.2.0 in /usr/local/lib/python3.11/dist-packages (from aiohttp<4.0.0,>=3.8.3->langchain-community<0.3.0,>=0.2.16->langchain-experimental>=0.0.6->langchain-cohere) (0.3.2)\n",
            "Requirement already satisfied: yarl<2.0,>=1.17.0 in /usr/local/lib/python3.11/dist-packages (from aiohttp<4.0.0,>=3.8.3->langchain-community<0.3.0,>=0.2.16->langchain-experimental>=0.0.6->langchain-cohere) (1.20.1)\n",
            "Requirement already satisfied: marshmallow<4.0.0,>=3.18.0 in /usr/local/lib/python3.11/dist-packages (from dataclasses-json<0.7,>=0.5.7->langchain-community<0.3.0,>=0.2.16->langchain-experimental>=0.0.6->langchain-cohere) (3.26.1)\n",
            "Requirement already satisfied: typing-inspect<1,>=0.4.0 in /usr/local/lib/python3.11/dist-packages (from dataclasses-json<0.7,>=0.5.7->langchain-community<0.3.0,>=0.2.16->langchain-experimental>=0.0.6->langchain-cohere) (0.9.0)\n",
            "Requirement already satisfied: filelock in /usr/local/lib/python3.11/dist-packages (from huggingface-hub<1.0,>=0.16.4->tokenizers<1,>=0.15->cohere<6.0,>=5.5.6->langchain-cohere) (3.18.0)\n",
            "Requirement already satisfied: fsspec>=2023.5.0 in /usr/local/lib/python3.11/dist-packages (from huggingface-hub<1.0,>=0.16.4->tokenizers<1,>=0.15->cohere<6.0,>=5.5.6->langchain-cohere) (2025.3.0)\n",
            "Requirement already satisfied: tqdm>=4.42.1 in /usr/local/lib/python3.11/dist-packages (from huggingface-hub<1.0,>=0.16.4->tokenizers<1,>=0.15->cohere<6.0,>=5.5.6->langchain-cohere) (4.67.1)\n",
            "Requirement already satisfied: hf-xet<2.0.0,>=1.1.3 in /usr/local/lib/python3.11/dist-packages (from huggingface-hub<1.0,>=0.16.4->tokenizers<1,>=0.15->cohere<6.0,>=5.5.6->langchain-cohere) (1.1.5)\n",
            "Requirement already satisfied: langchain-text-splitters<0.3.0,>=0.2.0 in /usr/local/lib/python3.11/dist-packages (from langchain<0.3.0,>=0.2.17->langchain-community<0.3.0,>=0.2.16->langchain-experimental>=0.0.6->langchain-cohere) (0.2.4)\n",
            "Requirement already satisfied: greenlet>=1 in /usr/local/lib/python3.11/dist-packages (from SQLAlchemy<3,>=1.4->langchain-community<0.3.0,>=0.2.16->langchain-experimental>=0.0.6->langchain-cohere) (3.2.3)\n",
            "Requirement already satisfied: sniffio>=1.1 in /usr/local/lib/python3.11/dist-packages (from anyio->httpx>=0.21.2->cohere<6.0,>=5.5.6->langchain-cohere) (1.3.1)\n",
            "Requirement already satisfied: mypy-extensions>=0.3.0 in /usr/local/lib/python3.11/dist-packages (from typing-inspect<1,>=0.4.0->dataclasses-json<0.7,>=0.5.7->langchain-community<0.3.0,>=0.2.16->langchain-experimental>=0.0.6->langchain-cohere) (1.1.0)\n"
          ]
        }
      ]
    },
    {
      "cell_type": "code",
      "source": [
        "import os\n",
        "from dotenv import load_dotenv,find_dotenv\n",
        "load_dotenv(find_dotenv(),override=True)"
      ],
      "metadata": {
        "colab": {
          "base_uri": "https://localhost:8080/"
        },
        "id": "HRvOexM1rp3X",
        "outputId": "0edeb9d0-b21c-4732-c267-5c3f66e9e984"
      },
      "execution_count": 1,
      "outputs": [
        {
          "output_type": "execute_result",
          "data": {
            "text/plain": [
              "True"
            ]
          },
          "metadata": {},
          "execution_count": 1
        }
      ]
    },
    {
      "cell_type": "code",
      "source": [
        "from langchain.text_splitter import RecursiveCharacterTextSplitter\n",
        "\n",
        "with open('churchill_speech.txt') as f:\n",
        "    churchill_speech = f.read()\n",
        "\n",
        "    text_splitter = RecursiveCharacterTextSplitter(\n",
        "        chunk_size=100,\n",
        "        chunk_overlap=20,\n",
        "        length_function=len\n",
        "\n",
        "    )\n"
      ],
      "metadata": {
        "id": "oLGFAZohr-ON"
      },
      "execution_count": 2,
      "outputs": []
    },
    {
      "cell_type": "code",
      "source": [
        "chunks = text_splitter.create_documents([churchill_speech])\n",
        "print(len(chunks))"
      ],
      "metadata": {
        "colab": {
          "base_uri": "https://localhost:8080/"
        },
        "id": "A404OxDbsxYR",
        "outputId": "260e37ae-8020-437a-af31-e5e338bc7095"
      },
      "execution_count": 3,
      "outputs": [
        {
          "output_type": "stream",
          "name": "stdout",
          "text": [
            "300\n"
          ]
        }
      ]
    },
    {
      "cell_type": "markdown",
      "source": [
        "#Embedding Cost"
      ],
      "metadata": {
        "id": "CiNgRHn-xSKM"
      }
    },
    {
      "cell_type": "code",
      "source": [
        "def embedding_cost(texts):\n",
        "    import tiktoken\n",
        "    enc = tiktoken.encoding_for_model('text-embedding-3-small')\n",
        "    total_tokens=sum([len(enc.encode(page.page_content)) for page in texts])\n",
        "    print(f\"total tokens:{total_tokens}\")\n",
        "    print(f\"Embedding cose in USD : {total_tokens/1000*0.00002:.6f}\")\n",
        "\n",
        "embedding_cost(chunks)"
      ],
      "metadata": {
        "colab": {
          "base_uri": "https://localhost:8080/"
        },
        "id": "h3M9Luo1xWY_",
        "outputId": "59445369-f7bd-49fb-df77-6d989d7405b4"
      },
      "execution_count": 4,
      "outputs": [
        {
          "output_type": "stream",
          "name": "stdout",
          "text": [
            "total tokens:4820\n",
            "Embedding cose in USD : 0.000096\n"
          ]
        }
      ]
    },
    {
      "cell_type": "markdown",
      "source": [
        "#creating Embeddings"
      ],
      "metadata": {
        "id": "HO5lNv7NzC4C"
      }
    },
    {
      "cell_type": "code",
      "source": [
        "from langchain_cohere import CohereEmbeddings\n",
        "embeddings = CohereEmbeddings(model='embed-english-v3.0')"
      ],
      "metadata": {
        "id": "HiJzL1ylyzK-"
      },
      "execution_count": 33,
      "outputs": []
    },
    {
      "cell_type": "code",
      "source": [
        "vector = embeddings.embed_query(chunks[0].page_content)\n",
        "print(vector)"
      ],
      "metadata": {
        "colab": {
          "base_uri": "https://localhost:8080/"
        },
        "id": "aViX9KF60v2A",
        "outputId": "9cd49c64-5e94-48c8-9b07-738ba5f5879e"
      },
      "execution_count": 14,
      "outputs": [
        {
          "output_type": "stream",
          "name": "stdout",
          "text": [
            "[0.093933105, 0.007598877, 0.03390503, -0.014915466, 0.048553467, -0.0345459, 0.07659912, -0.019073486, -3.6656857e-05, 0.0129470825, 0.0009303093, 0.018081665, -0.04196167, -0.038482666, -0.01108551, -0.015930176, -0.030319214, 0.026779175, -0.016220093, -0.03869629, 0.05441284, -0.05645752, -0.06903076, 0.025634766, 0.017959595, -0.030853271, -0.056915283, 0.036895752, -0.03189087, -0.015686035, -0.004058838, 0.057800293, 0.016464233, -0.010383606, 0.0062446594, -0.04724121, -0.0014181137, -0.014411926, 0.031585693, -0.021011353, -0.004032135, -0.0071105957, -0.029800415, -0.06744385, -0.057006836, 0.018203735, -0.03479004, 0.026809692, 0.008163452, 0.017807007, 0.008659363, 0.008102417, -0.005241394, 0.025482178, -0.021072388, -0.004558563, -0.011734009, 0.02470398, 0.023788452, 7.790327e-05, -0.011833191, 0.023254395, 0.01550293, 0.018417358, -0.007801056, -0.008842468, 0.033050537, 0.0027999878, 0.050048828, 0.020599365, 0.019256592, 0.04586792, 0.02078247, -0.03274536, -0.013549805, -0.009841919, -0.00762558, -0.01171875, 0.02381897, -0.025726318, -0.03970337, -0.025970459, -0.038726807, -0.009651184, -0.0031738281, 0.010124207, -0.014343262, -0.0075531006, -0.02041626, -0.032470703, -0.032226562, 0.06774902, -0.018600464, -0.009666443, -0.054473877, -0.015022278, 0.041229248, 0.09667969, -0.015808105, 0.0016365051, -0.057891846, 0.0017204285, -0.03564453, -0.040252686, -0.025405884, 0.032592773, 0.016555786, -0.0015525818, -0.016479492, 0.013969421, -0.007297516, -0.06616211, 0.021850586, -0.0064430237, 0.002670288, -0.0052757263, 0.024475098, 0.027374268, 0.009284973, 0.023422241, -0.0024318695, 0.02708435, -0.009216309, -0.0011014938, 0.011924744, 0.010345459, -0.009933472, -0.011520386, 0.056365967, -0.024047852, -0.0016717911, 0.06542969, -0.09222412, -0.111083984, -0.09283447, 0.017990112, -0.025604248, -0.036224365, -0.029067993, 0.035064697, -0.0158844, -0.024612427, 0.029296875, -0.03149414, 0.0061035156, 3.5107136e-05, 0.010574341, -0.0039634705, 0.005428314, 0.028762817, -0.021392822, -0.001657486, 0.045654297, 0.009742737, -0.06365967, 0.026916504, -0.029373169, -0.010673523, -0.022766113, -0.020401001, 0.06573486, 0.010597229, 0.006412506, 0.026977539, -0.02456665, -0.009681702, -0.049743652, -0.035888672, 0.018463135, 0.062347412, -0.03567505, 0.0053977966, 0.005531311, -0.022583008, -0.034484863, 0.003458023, -0.048583984, -0.037017822, 0.033416748, 0.04837036, 0.0050735474, -0.04458618, -0.036071777, 0.04095459, 0.05203247, -0.0592041, 0.022323608, -0.0043411255, -0.02482605, 0.048675537, -0.06121826, 0.0060539246, -0.019104004, 0.04046631, -0.018539429, -0.01826477, -0.032958984, 0.018966675, -0.04724121, 0.009033203, -0.012046814, 0.009086609, 0.00052785873, 0.016967773, 0.04171753, -0.020080566, 0.02281189, -0.0131073, 0.041625977, 0.02760315, -0.020843506, 0.0010957718, -0.0050201416, -3.516674e-06, -0.031402588, 0.015289307, -0.010185242, 0.05718994, 0.0016231537, 0.048553467, 0.00094890594, -0.0015230179, 0.008354187, -0.028808594, 0.014968872, 0.008476257, -0.02619934, -0.0055160522, -0.0016784668, 0.034698486, -0.004798889, -0.007537842, 0.05279541, 0.04067993, -0.0039634705, 0.002023697, 0.033813477, -0.012512207, -0.0027751923, 0.011009216, 0.0132751465, 0.039245605, -0.031982422, -0.05316162, 0.053344727, -0.014625549, 0.01486969, -0.031036377, 0.001332283, 0.00541687, -0.027313232, -0.05432129, 0.014587402, -0.07904053, -0.014030457, 0.028945923, -0.0025939941, -0.023483276, 0.0031204224, 0.028640747, -0.008392334, -0.0184021, -0.010406494, -0.02607727, -0.01146698, 0.0031223297, 0.01260376, 0.02709961, 0.00308609, -0.016937256, 0.01171875, 0.029647827, -0.019119263, 0.019882202, 0.00945282, -0.028640747, -0.037475586, 0.013595581, -0.016464233, 0.01222229, -0.0015411377, -0.0418396, 0.02432251, 0.011375427, 0.054229736, 0.04031372, 0.038116455, 0.022109985, -0.025466919, -0.026168823, 0.032592773, -0.014717102, 0.0036907196, 0.02407837, 0.0020427704, -0.027114868, 0.018692017, 0.048431396, -0.015487671, 0.006626129, -0.0524292, 0.005420685, -0.035339355, 0.014183044, 0.018432617, 0.041259766, -0.0025787354, 0.052856445, 0.058929443, -0.058532715, 0.070739746, 0.06903076, -0.0041999817, -0.03189087, 0.034454346, 0.021621704, 0.006324768, 0.021820068, 0.044830322, 0.064819336, -0.025390625, -0.02784729, -0.0025939941, -0.023910522, 0.0098724365, -0.01676941, -0.019104004, 0.005832672, -0.049346924, 0.01612854, 0.07507324, -0.014579773, 0.040771484, -0.042999268, -0.0038795471, -0.05218506, 0.030014038, 0.007881165, 0.024429321, 0.038208008, 0.051208496, 0.0077056885, 0.0031814575, -0.013839722, 0.018829346, -0.05517578, -0.020980835, -0.0038852692, 0.04360962, -0.02154541, 0.027786255, -0.02583313, -0.0071792603, 0.032714844, 0.050720215, 0.006427765, -0.036865234, 0.042419434, 0.06536865, -0.032226562, -0.016708374, 4.976988e-05, -0.030548096, 0.0028247833, 0.027877808, -0.027542114, -0.0005578995, -0.0042419434, 0.011817932, 0.03579712, 0.0043945312, 0.027008057, -0.010368347, -0.0006303787, 0.0018634796, -0.031555176, 0.0004427433, -0.032409668, 0.008460999, -0.00730896, -0.011955261, -0.017456055, 0.05911255, 0.0012893677, 0.011459351, 0.0039901733, 0.010810852, -0.040161133, 0.06738281, 0.034942627, 0.053985596, -0.03201294, -0.04623413, -0.024490356, -0.00409317, 0.023529053, 0.04397583, -0.038879395, 0.009338379, -0.04473877, -0.022369385, -0.034118652, -0.013771057, -0.027770996, -0.0035877228, 0.05178833, 0.022994995, -0.015365601, -0.0033168793, -0.0011386871, -0.04977417, 0.1138916, -0.046020508, 0.09472656, -0.032440186, -0.024612427, -0.06750488, -0.010604858, 0.04989624, 0.019561768, -0.058898926, 0.03451538, -0.04928589, 0.019683838, 0.008415222, -0.0013341904, 0.024887085, 0.0044403076, 0.059692383, 0.021514893, 0.025466919, -0.010612488, -0.01687622, -0.035491943, -0.028869629, 0.03237915, 0.0061302185, 0.055908203, -0.013069153, 0.018234253, -0.04434204, -0.00774765, 0.007904053, -0.026153564, -0.009521484, -0.032562256, 0.029891968, -0.018493652, -0.0770874, -0.017425537, -0.012756348, 0.054229736, -0.017440796, 0.012825012, 0.030593872, -0.018920898, 0.032806396, 0.036865234, 0.04852295, 0.019241333, 0.033599854, -0.036224365, 0.0236969, 0.035491943, -0.049926758, 0.043395996, 0.066223145, 0.021697998, -0.019866943, -0.011627197, 0.010101318, -0.043548584, 0.040161133, 0.021194458, 0.025283813, 0.012512207, -0.032409668, 0.050994873, -0.103637695, 0.013824463, 0.0017557144, -0.0028018951, -0.0099487305, 0.0015659332, -0.0031871796, 0.039123535, -0.028335571, -0.0155181885, -0.017944336, -0.012054443, -0.024475098, -0.0017528534, 0.0048332214, -0.021057129, -0.043701172, -0.01576233, -0.0064849854, 0.036193848, -0.03793335, -0.026138306, -0.0047416687, -0.02809143, 0.012718201, 0.05517578, 0.06097412, 0.0023727417, -0.047210693, -0.008026123, 0.012969971, -0.0008325577, 0.0030517578, -0.015991211, 0.09100342, -0.008972168, 0.0028362274, -0.0053977966, 0.012619019, 0.017227173, -0.023040771, 0.0031013489, 0.017807007, 0.032470703, 0.03262329, 0.026779175, -0.07409668, -0.012786865, 0.06311035, -0.0107803345, -0.03857422, -0.006515503, 0.012718201, 0.029937744, 0.043945312, -0.017288208, 0.014205933, 0.0035934448, -0.044006348, 0.020141602, -0.018630981, -0.04449463, -0.033233643, 0.013710022, -0.0049705505, 0.0017185211, -0.006046295, -0.024780273, 0.02885437, 0.06530762, -0.032104492, 0.033569336, 0.024978638, 0.012992859, 0.008255005, -0.05215454, -0.029373169, -0.025878906, 0.04650879, -0.039276123, -0.016021729, 0.03744507, -0.0021343231, 0.0061454773, 0.010887146, -0.0010328293, 0.018844604, 0.018859863, -0.056365967, -0.057250977, -0.00043654442, -0.029678345, 0.006072998, -0.008926392, 0.041748047, 0.01260376, -0.037139893, 0.004814148, -0.004753113, 0.017578125, 0.017425537, 0.04360962, 0.017333984, 0.003917694, -0.03982544, 0.025344849, -0.007663727, -0.020095825, -0.0010614395, -0.033691406, -0.024139404, -0.013755798, 0.036499023, -0.009552002, -0.038269043, -0.011688232, 0.05709839, 2.3841858e-06, 0.0758667, 0.0063323975, 0.026824951, 0.018630981, -0.027618408, 0.0011768341, -0.018463135, -0.026184082, 0.01701355, 0.04663086, 0.060638428, -0.08380127, 0.003129959, 0.015686035, 0.037506104, -0.047180176, 0.006614685, 0.004360199, 0.005290985, 0.018966675, 0.0052375793, -0.0050582886, 0.026611328, 0.0015563965, 0.06518555, -0.0078048706, 0.05230713, 0.08758545, -0.0015182495, -0.011039734, 0.011329651, 0.02508545, 0.00033831596, -0.0031337738, 0.00945282, -0.0027980804, -0.031036377, -0.013618469, -0.01626587, 0.011512756, -0.031341553, -0.050750732, 0.0040626526, 0.03955078, 0.007358551, 0.0015621185, 0.008148193, -0.045532227, 0.010238647, -0.041534424, -0.018859863, 0.015655518, -0.047546387, -0.010879517, 0.018127441, 0.023773193, -0.05618286, 0.021972656, 0.047912598, -0.007621765, -0.00806427, 0.06524658, -0.015960693, -0.009223938, -0.021270752, -0.006942749, 0.012329102, -0.03665161, 0.011039734, -0.016036987, -0.00881958, 0.055908203, -0.053741455, 0.05429077, -0.007621765, 0.020736694, -0.013343811, -0.011253357, 0.036590576, -0.050201416, -0.050933838, 0.027801514, -0.061401367, -0.027694702, 0.008361816, -0.053863525, -0.01828003, -0.029907227, -0.009902954, -0.0053138733, -0.02619934, 0.028869629, 0.012298584, -0.07055664, -0.007858276, 0.0059127808, -0.019332886, -0.03591919, 0.031402588, 0.008712769, -0.022766113, 0.04864502, 0.04559326, -0.006427765, 0.003440857, 0.026138306, -0.038513184, -0.0058517456, 0.013618469, -3.1113625e-05, 0.014503479, 0.031555176, 0.020355225, -0.008842468, 0.03086853, 0.030822754, 0.060272217, -0.013656616, 0.01449585, 0.0003786087, 0.07672119, 0.06378174, 0.010803223, -0.013664246, -0.044036865, -0.031707764, -0.0118255615, 0.021362305, 0.028015137, 0.0037002563, -0.059417725, -0.005378723, 0.0019044876, -0.008491516, -0.016723633, 0.000834465, 0.020599365, -0.022567749, -0.022583008, 0.020874023, 0.033325195, 0.01676941, -0.012619019, 0.04006958, -0.024017334, 0.008148193, 0.015975952, 0.006351471, -0.023956299, -0.002729416, -0.0140686035, -0.010299683, 0.045318604, -0.008987427, 0.00086164474, 0.037963867, 0.018966675, 0.018661499, 0.012748718, -0.027389526, -0.012550354, 0.0033435822, 0.02670288, -0.013336182, 0.0018701553, -0.0062942505, -0.025558472, 0.005760193, -0.024978638, 0.024978638, 0.02998352, 0.016845703, 0.05206299, -0.004348755, -0.0010185242, -0.01423645, -0.00037908554, 0.018600464, 0.023620605, 0.04107666, -0.0063056946, 0.0116119385, -0.04788208, -0.00031852722, 0.03074646, 0.03427124, 0.004211426, -0.026473999, 0.047668457, 0.011642456, 0.00082731247, -0.032562256, 0.05706787, 0.0181427, -0.03366089, -0.011802673, 0.01713562, -0.019134521, 0.0033721924, 0.0028591156, 0.00944519, -0.02609253, -0.032165527, -0.005504608, 0.042114258, -0.022628784, -0.03869629, -0.045440674, -0.037994385, -0.04071045, -0.011917114, 0.023468018, 0.0012617111, -0.0016212463, 0.016098022, -0.01663208, -0.020980835, 0.04626465, 0.008560181, 0.04046631, -0.072143555, -0.0039596558, -0.07324219, -0.050720215, 0.030700684, 0.04953003, 0.037475586, -0.03866577, -0.036132812, 0.010467529, -0.009628296, 0.021072388, 0.007865906, 0.0154418945, 0.005012512, -0.013618469, -0.013763428, 0.010940552, 0.00756073, -0.005065918, -0.010353088, -0.025466919, 0.024642944, -0.007888794, 0.010879517, -0.035858154, 0.010574341, 0.011993408, -0.039367676, 0.01687622, -0.018203735, -0.0037403107, 0.05053711, -0.013847351, 0.040527344, -0.085632324, -0.0569458, 0.009101868, 0.028778076, -0.03100586, -0.014144897, -0.025817871, -0.007911682, 0.07623291, 0.018554688, -0.033233643, -0.023162842, 0.017318726, 0.03753662, 0.0030117035, -0.0149383545, -0.007499695, -0.024047852, 0.0062217712, 0.017791748, 0.0017175674, 0.085632324, 0.034088135, -0.014274597, 0.04055786, 0.010253906, -0.057769775, 0.01977539, -0.037750244, -0.006351471, -0.0118637085, 0.033935547, 0.00074243546, -0.0030498505, -0.0385437, 0.0072364807, -0.011116028, 0.056762695, -0.0064811707, 0.03970337, -0.04095459, -0.017181396, 0.016967773, -0.031982422, 0.026870728, -0.0052108765, 0.026382446, -0.00932312, -0.007041931, 0.012458801, -0.038970947, 0.01739502, -0.0007209778, 0.076293945, -0.05001831, -0.050323486, -0.020965576, -0.031463623, -0.04827881, 0.10028076, -0.014053345, -0.010574341, -0.016464233, 0.0018444061, -0.04006958, -0.012214661, -0.013153076, 0.0056037903, -0.0038528442, 0.0025558472, 0.04156494, 0.0066223145, -0.007205963, -0.041381836, -0.041046143, 0.02192688, 0.03277588, 0.034820557, -0.017547607, 0.027404785, 0.025939941, 0.038330078, 0.009468079, 0.04156494, -0.012565613, 0.014343262, -0.05340576, 0.002822876, -0.013938904, 0.0029201508, -0.026260376, -0.021148682, 0.036895752, -0.0075798035, 0.019363403, 0.015060425, -0.006477356, -0.005794525, 0.015419006, 0.022567749, -0.009506226, -0.02859497, -0.0073890686, 0.0069351196, 0.019729614, -0.04623413, -0.05126953, -0.0024681091, 0.055236816, -0.010314941, 0.025344849, 0.044830322, 0.013916016, -0.03540039, 0.033416748, -0.010559082, -0.018798828, -0.0056114197, -0.019714355, 0.021087646, 0.01576233, -0.01637268, 0.032714844, 0.011177063, 0.014022827, -0.014083862, 0.01777649, -0.037597656, -0.017791748, -1.3649464e-05, -0.03387451, -0.0154418945, -0.017959595, -0.09509277, 0.03881836, -0.014564514, -0.025772095, 0.019012451, 0.062286377, 0.010681152, 0.057434082, -0.017715454, -0.03225708, 0.035705566, 0.008895874, 0.013175964, 0.0033454895, 0.034057617, 0.010917664, -0.0049591064, 0.0005297661, 0.00075674057, -0.0075950623, -0.0015201569, -0.007785797, -0.00881958, -0.0032672882, -0.047698975, 0.022506714, -0.036956787, 0.040893555, -0.0048179626, 0.0029125214, -0.0035305023, 0.0104522705, 0.007511139, -0.014907837, 0.034484863, 0.020828247, -0.018417358, -0.05444336, 0.0007338524, -0.006801605]\n"
          ]
        }
      ]
    },
    {
      "cell_type": "markdown",
      "source": [
        "#Inserting the Embeddings into a Pinecone Index"
      ],
      "metadata": {
        "id": "EkHsIoDA1lfv"
      }
    },
    {
      "cell_type": "code",
      "source": [
        "import os\n",
        "import pinecone\n",
        "from langchain.vectorstores import Pinecone\n",
        "pc = pinecone.Pinecone()\n"
      ],
      "metadata": {
        "id": "DOZdzeYJ1gh2"
      },
      "execution_count": 28,
      "outputs": []
    },
    {
      "cell_type": "code",
      "source": [
        "#deleting all indexes\n",
        "\n",
        "indexes = pc.list_indexes().names()\n",
        "for index in indexes:\n",
        "    print(f'deleting index : {index}')\n",
        "    pc.delete_index(index)\n",
        "    print(\"Done\")\n"
      ],
      "metadata": {
        "colab": {
          "base_uri": "https://localhost:8080/"
        },
        "id": "4lQ9zIpv2PB3",
        "outputId": "508090a0-33c7-4be4-99d1-24a7a68ee038"
      },
      "execution_count": 29,
      "outputs": [
        {
          "output_type": "stream",
          "name": "stdout",
          "text": [
            "deleting index : churchill-speech\n",
            "Done\n"
          ]
        }
      ]
    },
    {
      "cell_type": "code",
      "source": [
        "#Creating index serverlessSpec\n",
        "from pinecone import ServerlessSpec\n",
        "index_name = 'churchill-speech'\n",
        "if index_name not in pc.list_indexes().names():\n",
        "    pc.create_index(\n",
        "        name = index_name,\n",
        "        dimension = 1536,\n",
        "        metric = 'cosine',\n",
        "        spec = ServerlessSpec(\n",
        "            cloud='aws',\n",
        "            region='us-east-1'\n",
        "        )\n",
        "    )\n",
        "    print(\"Index created\")\n",
        "else:\n",
        "    print(\"Index already exists\")"
      ],
      "metadata": {
        "colab": {
          "base_uri": "https://localhost:8080/"
        },
        "id": "dsdafjAh2jDK",
        "outputId": "6173b8a9-09d3-4fb9-f7fb-6961de8831eb"
      },
      "execution_count": 30,
      "outputs": [
        {
          "output_type": "stream",
          "name": "stdout",
          "text": [
            "Index created\n"
          ]
        }
      ]
    },
    {
      "cell_type": "code",
      "source": [
        "pip install langchain cohere pinecone-client\n"
      ],
      "metadata": {
        "colab": {
          "base_uri": "https://localhost:8080/"
        },
        "id": "9t0Cof2_FjTr",
        "outputId": "8aea8d69-1697-4d28-fe6c-4ea444f8042e"
      },
      "execution_count": 26,
      "outputs": [
        {
          "output_type": "stream",
          "name": "stdout",
          "text": [
            "Requirement already satisfied: langchain in /usr/local/lib/python3.11/dist-packages (0.2.17)\n",
            "Requirement already satisfied: cohere in /usr/local/lib/python3.11/dist-packages (5.16.1)\n",
            "Requirement already satisfied: pinecone-client in /usr/local/lib/python3.11/dist-packages (6.0.0)\n",
            "Requirement already satisfied: PyYAML>=5.3 in /usr/local/lib/python3.11/dist-packages (from langchain) (6.0.2)\n",
            "Requirement already satisfied: SQLAlchemy<3,>=1.4 in /usr/local/lib/python3.11/dist-packages (from langchain) (2.0.41)\n",
            "Requirement already satisfied: aiohttp<4.0.0,>=3.8.3 in /usr/local/lib/python3.11/dist-packages (from langchain) (3.12.14)\n",
            "Requirement already satisfied: langchain-core<0.3.0,>=0.2.43 in /usr/local/lib/python3.11/dist-packages (from langchain) (0.2.43)\n",
            "Requirement already satisfied: langchain-text-splitters<0.3.0,>=0.2.0 in /usr/local/lib/python3.11/dist-packages (from langchain) (0.2.4)\n",
            "Requirement already satisfied: langsmith<0.2.0,>=0.1.17 in /usr/local/lib/python3.11/dist-packages (from langchain) (0.1.147)\n",
            "Requirement already satisfied: numpy<2,>=1 in /usr/local/lib/python3.11/dist-packages (from langchain) (1.26.4)\n",
            "Requirement already satisfied: pydantic<3,>=1 in /usr/local/lib/python3.11/dist-packages (from langchain) (2.11.7)\n",
            "Requirement already satisfied: requests<3,>=2 in /usr/local/lib/python3.11/dist-packages (from langchain) (2.32.3)\n",
            "Requirement already satisfied: tenacity!=8.4.0,<9.0.0,>=8.1.0 in /usr/local/lib/python3.11/dist-packages (from langchain) (8.5.0)\n",
            "Requirement already satisfied: fastavro<2.0.0,>=1.9.4 in /usr/local/lib/python3.11/dist-packages (from cohere) (1.12.0)\n",
            "Requirement already satisfied: httpx>=0.21.2 in /usr/local/lib/python3.11/dist-packages (from cohere) (0.28.1)\n",
            "Requirement already satisfied: httpx-sse==0.4.0 in /usr/local/lib/python3.11/dist-packages (from cohere) (0.4.0)\n",
            "Requirement already satisfied: pydantic-core<3.0.0,>=2.18.2 in /usr/local/lib/python3.11/dist-packages (from cohere) (2.33.2)\n",
            "Requirement already satisfied: tokenizers<1,>=0.15 in /usr/local/lib/python3.11/dist-packages (from cohere) (0.21.2)\n",
            "Requirement already satisfied: types-requests<3.0.0,>=2.0.0 in /usr/local/lib/python3.11/dist-packages (from cohere) (2.32.4.20250611)\n",
            "Requirement already satisfied: typing_extensions>=4.0.0 in /usr/local/lib/python3.11/dist-packages (from cohere) (4.14.1)\n",
            "Requirement already satisfied: certifi>=2019.11.17 in /usr/local/lib/python3.11/dist-packages (from pinecone-client) (2025.7.14)\n",
            "Requirement already satisfied: pinecone-plugin-interface<0.0.8,>=0.0.7 in /usr/local/lib/python3.11/dist-packages (from pinecone-client) (0.0.7)\n",
            "Requirement already satisfied: python-dateutil>=2.5.3 in /usr/local/lib/python3.11/dist-packages (from pinecone-client) (2.9.0.post0)\n",
            "Requirement already satisfied: urllib3>=1.26.0 in /usr/local/lib/python3.11/dist-packages (from pinecone-client) (2.5.0)\n",
            "Requirement already satisfied: aiohappyeyeballs>=2.5.0 in /usr/local/lib/python3.11/dist-packages (from aiohttp<4.0.0,>=3.8.3->langchain) (2.6.1)\n",
            "Requirement already satisfied: aiosignal>=1.4.0 in /usr/local/lib/python3.11/dist-packages (from aiohttp<4.0.0,>=3.8.3->langchain) (1.4.0)\n",
            "Requirement already satisfied: attrs>=17.3.0 in /usr/local/lib/python3.11/dist-packages (from aiohttp<4.0.0,>=3.8.3->langchain) (25.3.0)\n",
            "Requirement already satisfied: frozenlist>=1.1.1 in /usr/local/lib/python3.11/dist-packages (from aiohttp<4.0.0,>=3.8.3->langchain) (1.7.0)\n",
            "Requirement already satisfied: multidict<7.0,>=4.5 in /usr/local/lib/python3.11/dist-packages (from aiohttp<4.0.0,>=3.8.3->langchain) (6.6.3)\n",
            "Requirement already satisfied: propcache>=0.2.0 in /usr/local/lib/python3.11/dist-packages (from aiohttp<4.0.0,>=3.8.3->langchain) (0.3.2)\n",
            "Requirement already satisfied: yarl<2.0,>=1.17.0 in /usr/local/lib/python3.11/dist-packages (from aiohttp<4.0.0,>=3.8.3->langchain) (1.20.1)\n",
            "Requirement already satisfied: anyio in /usr/local/lib/python3.11/dist-packages (from httpx>=0.21.2->cohere) (4.9.0)\n",
            "Requirement already satisfied: httpcore==1.* in /usr/local/lib/python3.11/dist-packages (from httpx>=0.21.2->cohere) (1.0.9)\n",
            "Requirement already satisfied: idna in /usr/local/lib/python3.11/dist-packages (from httpx>=0.21.2->cohere) (3.10)\n",
            "Requirement already satisfied: h11>=0.16 in /usr/local/lib/python3.11/dist-packages (from httpcore==1.*->httpx>=0.21.2->cohere) (0.16.0)\n",
            "Requirement already satisfied: jsonpatch<2.0,>=1.33 in /usr/local/lib/python3.11/dist-packages (from langchain-core<0.3.0,>=0.2.43->langchain) (1.33)\n",
            "Requirement already satisfied: packaging<25,>=23.2 in /usr/local/lib/python3.11/dist-packages (from langchain-core<0.3.0,>=0.2.43->langchain) (24.2)\n",
            "Requirement already satisfied: orjson<4.0.0,>=3.9.14 in /usr/local/lib/python3.11/dist-packages (from langsmith<0.2.0,>=0.1.17->langchain) (3.11.1)\n",
            "Requirement already satisfied: requests-toolbelt<2.0.0,>=1.0.0 in /usr/local/lib/python3.11/dist-packages (from langsmith<0.2.0,>=0.1.17->langchain) (1.0.0)\n",
            "Requirement already satisfied: annotated-types>=0.6.0 in /usr/local/lib/python3.11/dist-packages (from pydantic<3,>=1->langchain) (0.7.0)\n",
            "Requirement already satisfied: typing-inspection>=0.4.0 in /usr/local/lib/python3.11/dist-packages (from pydantic<3,>=1->langchain) (0.4.1)\n",
            "Requirement already satisfied: six>=1.5 in /usr/local/lib/python3.11/dist-packages (from python-dateutil>=2.5.3->pinecone-client) (1.17.0)\n",
            "Requirement already satisfied: charset-normalizer<4,>=2 in /usr/local/lib/python3.11/dist-packages (from requests<3,>=2->langchain) (3.4.2)\n",
            "Requirement already satisfied: greenlet>=1 in /usr/local/lib/python3.11/dist-packages (from SQLAlchemy<3,>=1.4->langchain) (3.2.3)\n",
            "Requirement already satisfied: huggingface-hub<1.0,>=0.16.4 in /usr/local/lib/python3.11/dist-packages (from tokenizers<1,>=0.15->cohere) (0.34.1)\n",
            "Requirement already satisfied: filelock in /usr/local/lib/python3.11/dist-packages (from huggingface-hub<1.0,>=0.16.4->tokenizers<1,>=0.15->cohere) (3.18.0)\n",
            "Requirement already satisfied: fsspec>=2023.5.0 in /usr/local/lib/python3.11/dist-packages (from huggingface-hub<1.0,>=0.16.4->tokenizers<1,>=0.15->cohere) (2025.3.0)\n",
            "Requirement already satisfied: tqdm>=4.42.1 in /usr/local/lib/python3.11/dist-packages (from huggingface-hub<1.0,>=0.16.4->tokenizers<1,>=0.15->cohere) (4.67.1)\n",
            "Requirement already satisfied: hf-xet<2.0.0,>=1.1.3 in /usr/local/lib/python3.11/dist-packages (from huggingface-hub<1.0,>=0.16.4->tokenizers<1,>=0.15->cohere) (1.1.5)\n",
            "Requirement already satisfied: jsonpointer>=1.9 in /usr/local/lib/python3.11/dist-packages (from jsonpatch<2.0,>=1.33->langchain-core<0.3.0,>=0.2.43->langchain) (3.0.0)\n",
            "Requirement already satisfied: sniffio>=1.1 in /usr/local/lib/python3.11/dist-packages (from anyio->httpx>=0.21.2->cohere) (1.3.1)\n"
          ]
        }
      ]
    },
    {
      "cell_type": "code",
      "source": [
        "#processing the input documents,generating the embeddings using the provided cohereEmbeddings\n",
        "#inserting the embeddings into the index and returning a pinecone vector store object\n",
        "\n",
        "vector_stores = Pinecone.from_documents(chunks,embeddings,index_name=index_name)\n"
      ],
      "metadata": {
        "colab": {
          "base_uri": "https://localhost:8080/",
          "height": 335
        },
        "id": "kHuw7CNQ3S0l",
        "outputId": "ee555c85-0533-4773-92d1-9df60bc09c26"
      },
      "execution_count": 31,
      "outputs": [
        {
          "output_type": "error",
          "ename": "AttributeError",
          "evalue": "module 'pinecone' has no attribute 'Index'",
          "traceback": [
            "\u001b[0;31m---------------------------------------------------------------------------\u001b[0m",
            "\u001b[0;31mAttributeError\u001b[0m                            Traceback (most recent call last)",
            "\u001b[0;32m/tmp/ipython-input-589926700.py\u001b[0m in \u001b[0;36m<cell line: 0>\u001b[0;34m()\u001b[0m\n\u001b[1;32m      2\u001b[0m \u001b[0;31m#inserting the embeddings into the index and returning a pinecone vector store object\u001b[0m\u001b[0;34m\u001b[0m\u001b[0;34m\u001b[0m\u001b[0m\n\u001b[1;32m      3\u001b[0m \u001b[0;34m\u001b[0m\u001b[0m\n\u001b[0;32m----> 4\u001b[0;31m \u001b[0mvector_stores\u001b[0m \u001b[0;34m=\u001b[0m \u001b[0mPinecone\u001b[0m\u001b[0;34m.\u001b[0m\u001b[0mfrom_documents\u001b[0m\u001b[0;34m(\u001b[0m\u001b[0mchunks\u001b[0m\u001b[0;34m,\u001b[0m\u001b[0membeddings\u001b[0m\u001b[0;34m,\u001b[0m\u001b[0mindex_name\u001b[0m\u001b[0;34m=\u001b[0m\u001b[0mindex_name\u001b[0m\u001b[0;34m)\u001b[0m\u001b[0;34m\u001b[0m\u001b[0;34m\u001b[0m\u001b[0m\n\u001b[0m",
            "\u001b[0;32m/usr/local/lib/python3.11/dist-packages/langchain_core/vectorstores/base.py\u001b[0m in \u001b[0;36mfrom_documents\u001b[0;34m(cls, documents, embedding, **kwargs)\u001b[0m\n\u001b[1;32m    833\u001b[0m         \u001b[0mtexts\u001b[0m \u001b[0;34m=\u001b[0m \u001b[0;34m[\u001b[0m\u001b[0md\u001b[0m\u001b[0;34m.\u001b[0m\u001b[0mpage_content\u001b[0m \u001b[0;32mfor\u001b[0m \u001b[0md\u001b[0m \u001b[0;32min\u001b[0m \u001b[0mdocuments\u001b[0m\u001b[0;34m]\u001b[0m\u001b[0;34m\u001b[0m\u001b[0;34m\u001b[0m\u001b[0m\n\u001b[1;32m    834\u001b[0m         \u001b[0mmetadatas\u001b[0m \u001b[0;34m=\u001b[0m \u001b[0;34m[\u001b[0m\u001b[0md\u001b[0m\u001b[0;34m.\u001b[0m\u001b[0mmetadata\u001b[0m \u001b[0;32mfor\u001b[0m \u001b[0md\u001b[0m \u001b[0;32min\u001b[0m \u001b[0mdocuments\u001b[0m\u001b[0;34m]\u001b[0m\u001b[0;34m\u001b[0m\u001b[0;34m\u001b[0m\u001b[0m\n\u001b[0;32m--> 835\u001b[0;31m         \u001b[0;32mreturn\u001b[0m \u001b[0mcls\u001b[0m\u001b[0;34m.\u001b[0m\u001b[0mfrom_texts\u001b[0m\u001b[0;34m(\u001b[0m\u001b[0mtexts\u001b[0m\u001b[0;34m,\u001b[0m \u001b[0membedding\u001b[0m\u001b[0;34m,\u001b[0m \u001b[0mmetadatas\u001b[0m\u001b[0;34m=\u001b[0m\u001b[0mmetadatas\u001b[0m\u001b[0;34m,\u001b[0m \u001b[0;34m**\u001b[0m\u001b[0mkwargs\u001b[0m\u001b[0;34m)\u001b[0m\u001b[0;34m\u001b[0m\u001b[0;34m\u001b[0m\u001b[0m\n\u001b[0m\u001b[1;32m    836\u001b[0m \u001b[0;34m\u001b[0m\u001b[0m\n\u001b[1;32m    837\u001b[0m     \u001b[0;34m@\u001b[0m\u001b[0mclassmethod\u001b[0m\u001b[0;34m\u001b[0m\u001b[0;34m\u001b[0m\u001b[0m\n",
            "\u001b[0;32m/usr/local/lib/python3.11/dist-packages/langchain_community/vectorstores/pinecone.py\u001b[0m in \u001b[0;36mfrom_texts\u001b[0;34m(cls, texts, embedding, metadatas, ids, batch_size, text_key, namespace, index_name, upsert_kwargs, pool_threads, embeddings_chunk_size, **kwargs)\u001b[0m\n\u001b[1;32m    431\u001b[0m         \"\"\"\n\u001b[1;32m    432\u001b[0m         \u001b[0mpinecone_index\u001b[0m \u001b[0;34m=\u001b[0m \u001b[0mcls\u001b[0m\u001b[0;34m.\u001b[0m\u001b[0mget_pinecone_index\u001b[0m\u001b[0;34m(\u001b[0m\u001b[0mindex_name\u001b[0m\u001b[0;34m,\u001b[0m \u001b[0mpool_threads\u001b[0m\u001b[0;34m)\u001b[0m\u001b[0;34m\u001b[0m\u001b[0;34m\u001b[0m\u001b[0m\n\u001b[0;32m--> 433\u001b[0;31m         \u001b[0mpinecone\u001b[0m \u001b[0;34m=\u001b[0m \u001b[0mcls\u001b[0m\u001b[0;34m(\u001b[0m\u001b[0mpinecone_index\u001b[0m\u001b[0;34m,\u001b[0m \u001b[0membedding\u001b[0m\u001b[0;34m,\u001b[0m \u001b[0mtext_key\u001b[0m\u001b[0;34m,\u001b[0m \u001b[0mnamespace\u001b[0m\u001b[0;34m,\u001b[0m \u001b[0;34m**\u001b[0m\u001b[0mkwargs\u001b[0m\u001b[0;34m)\u001b[0m\u001b[0;34m\u001b[0m\u001b[0;34m\u001b[0m\u001b[0m\n\u001b[0m\u001b[1;32m    434\u001b[0m \u001b[0;34m\u001b[0m\u001b[0m\n\u001b[1;32m    435\u001b[0m         pinecone.add_texts(\n",
            "\u001b[0;32m/usr/local/lib/python3.11/dist-packages/langchain_core/_api/deprecation.py\u001b[0m in \u001b[0;36mwarn_if_direct_instance\u001b[0;34m(self, *args, **kwargs)\u001b[0m\n\u001b[1;32m    213\u001b[0m                         \u001b[0mwarned\u001b[0m \u001b[0;34m=\u001b[0m \u001b[0;32mTrue\u001b[0m\u001b[0;34m\u001b[0m\u001b[0;34m\u001b[0m\u001b[0m\n\u001b[1;32m    214\u001b[0m                         \u001b[0memit_warning\u001b[0m\u001b[0;34m(\u001b[0m\u001b[0;34m)\u001b[0m\u001b[0;34m\u001b[0m\u001b[0;34m\u001b[0m\u001b[0m\n\u001b[0;32m--> 215\u001b[0;31m                     \u001b[0;32mreturn\u001b[0m \u001b[0mwrapped\u001b[0m\u001b[0;34m(\u001b[0m\u001b[0mself\u001b[0m\u001b[0;34m,\u001b[0m \u001b[0;34m*\u001b[0m\u001b[0margs\u001b[0m\u001b[0;34m,\u001b[0m \u001b[0;34m**\u001b[0m\u001b[0mkwargs\u001b[0m\u001b[0;34m)\u001b[0m\u001b[0;34m\u001b[0m\u001b[0;34m\u001b[0m\u001b[0m\n\u001b[0m\u001b[1;32m    216\u001b[0m \u001b[0;34m\u001b[0m\u001b[0m\n\u001b[1;32m    217\u001b[0m                 obj.__init__ = functools.wraps(obj.__init__)(  # type: ignore[misc]\n",
            "\u001b[0;32m/usr/local/lib/python3.11/dist-packages/langchain_community/vectorstores/pinecone.py\u001b[0m in \u001b[0;36m__init__\u001b[0;34m(self, index, embedding, text_key, namespace, distance_strategy)\u001b[0m\n\u001b[1;32m     70\u001b[0m                 \u001b[0;34m\" Embeddings object instead.\"\u001b[0m\u001b[0;34m\u001b[0m\u001b[0;34m\u001b[0m\u001b[0m\n\u001b[1;32m     71\u001b[0m             )\n\u001b[0;32m---> 72\u001b[0;31m         \u001b[0;32mif\u001b[0m \u001b[0;32mnot\u001b[0m \u001b[0misinstance\u001b[0m\u001b[0;34m(\u001b[0m\u001b[0mindex\u001b[0m\u001b[0;34m,\u001b[0m \u001b[0mpinecone\u001b[0m\u001b[0;34m.\u001b[0m\u001b[0mIndex\u001b[0m\u001b[0;34m)\u001b[0m\u001b[0;34m:\u001b[0m\u001b[0;34m\u001b[0m\u001b[0;34m\u001b[0m\u001b[0m\n\u001b[0m\u001b[1;32m     73\u001b[0m             raise ValueError(\n\u001b[1;32m     74\u001b[0m                 \u001b[0;34mf\"client should be an instance of pinecone.Index, \"\u001b[0m \u001b[0;34mf\"got {type(index)}\"\u001b[0m\u001b[0;34m\u001b[0m\u001b[0;34m\u001b[0m\u001b[0m\n",
            "\u001b[0;32m/usr/local/lib/python3.11/dist-packages/pinecone/utils/lazy_imports.py\u001b[0m in \u001b[0;36m__getattr__\u001b[0;34m(self, name)\u001b[0m\n\u001b[1;32m     63\u001b[0m             \u001b[0;32mreturn\u001b[0m \u001b[0mself\u001b[0m\u001b[0;34m.\u001b[0m\u001b[0m_loaded_attrs\u001b[0m\u001b[0;34m[\u001b[0m\u001b[0mname\u001b[0m\u001b[0;34m]\u001b[0m\u001b[0;34m\u001b[0m\u001b[0;34m\u001b[0m\u001b[0m\n\u001b[1;32m     64\u001b[0m \u001b[0;34m\u001b[0m\u001b[0m\n\u001b[0;32m---> 65\u001b[0;31m         \u001b[0;32mraise\u001b[0m \u001b[0mAttributeError\u001b[0m\u001b[0;34m(\u001b[0m\u001b[0;34mf\"module '{self._original_module.__name__}' has no attribute '{name}'\"\u001b[0m\u001b[0;34m)\u001b[0m\u001b[0;34m\u001b[0m\u001b[0;34m\u001b[0m\u001b[0m\n\u001b[0m\u001b[1;32m     66\u001b[0m \u001b[0;34m\u001b[0m\u001b[0m\n\u001b[1;32m     67\u001b[0m \u001b[0;34m\u001b[0m\u001b[0m\n",
            "\u001b[0;31mAttributeError\u001b[0m: module 'pinecone' has no attribute 'Index'"
          ]
        }
      ]
    },
    {
      "cell_type": "code",
      "source": [
        "index = pc.Index(index_name)\n",
        "index.describe_index_stats()"
      ],
      "metadata": {
        "colab": {
          "base_uri": "https://localhost:8080/"
        },
        "id": "1OSEmNvg41CM",
        "outputId": "cf204a3b-5cb2-44c0-9394-9f12333cc8c3"
      },
      "execution_count": 19,
      "outputs": [
        {
          "output_type": "execute_result",
          "data": {
            "text/plain": [
              "{'dimension': 1536,\n",
              " 'index_fullness': 0.0,\n",
              " 'metric': 'cosine',\n",
              " 'namespaces': {},\n",
              " 'total_vector_count': 0,\n",
              " 'vector_type': 'dense'}"
            ]
          },
          "metadata": {},
          "execution_count": 19
        }
      ]
    },
    {
      "cell_type": "markdown",
      "source": [
        "#Answering Questions to similarity Search"
      ],
      "metadata": {
        "id": "VYXiupZc5Dpq"
      }
    },
    {
      "cell_type": "code",
      "source": [
        "query='Where Should we fight?'\n",
        "result = vector_stores.similarity_search(query)\n",
        "print(result)"
      ],
      "metadata": {
        "id": "lK2-qiyY4_9v"
      },
      "execution_count": null,
      "outputs": []
    },
    {
      "cell_type": "code",
      "source": [
        "for i in result:\n",
        "    print(i.page_content)\n",
        "    print('-'*50)\n",
        ""
      ],
      "metadata": {
        "id": "Z2hdwEUK6SjU"
      },
      "execution_count": null,
      "outputs": []
    },
    {
      "cell_type": "markdown",
      "source": [
        "#Answering in Natural Language using an LLM"
      ],
      "metadata": {
        "id": "YdfiNf-z6frM"
      }
    },
    {
      "cell_type": "code",
      "source": [
        "from langchain.chains import RetrievalQA\n",
        "from langchain_cohere import ChatCohere\n",
        "llm = ChatCohere(model='command-nightly')\n",
        "retriever = vector_stores.as_retriever(search_type='similarity',search_kwargs={'k': 3})\n",
        "chain = RetrievalQA.from_chain_type(llm=llm,chain_type='stuff',retriever=retriever)"
      ],
      "metadata": {
        "colab": {
          "base_uri": "https://localhost:8080/",
          "height": 201
        },
        "id": "S9rr7TfS6ZrQ",
        "outputId": "a8f36e7d-274a-463e-bd0f-075463a45595"
      },
      "execution_count": 22,
      "outputs": [
        {
          "output_type": "error",
          "ename": "NameError",
          "evalue": "name 'vector_stores' is not defined",
          "traceback": [
            "\u001b[0;31m---------------------------------------------------------------------------\u001b[0m",
            "\u001b[0;31mNameError\u001b[0m                                 Traceback (most recent call last)",
            "\u001b[0;32m/tmp/ipython-input-3869699355.py\u001b[0m in \u001b[0;36m<cell line: 0>\u001b[0;34m()\u001b[0m\n\u001b[1;32m      2\u001b[0m \u001b[0;32mfrom\u001b[0m \u001b[0mlangchain_cohere\u001b[0m \u001b[0;32mimport\u001b[0m \u001b[0mChatCohere\u001b[0m\u001b[0;34m\u001b[0m\u001b[0;34m\u001b[0m\u001b[0m\n\u001b[1;32m      3\u001b[0m \u001b[0mllm\u001b[0m \u001b[0;34m=\u001b[0m \u001b[0mChatCohere\u001b[0m\u001b[0;34m(\u001b[0m\u001b[0mmodel\u001b[0m\u001b[0;34m=\u001b[0m\u001b[0;34m'command-nightly'\u001b[0m\u001b[0;34m)\u001b[0m\u001b[0;34m\u001b[0m\u001b[0;34m\u001b[0m\u001b[0m\n\u001b[0;32m----> 4\u001b[0;31m \u001b[0mretriever\u001b[0m \u001b[0;34m=\u001b[0m \u001b[0mvector_stores\u001b[0m\u001b[0;34m.\u001b[0m\u001b[0mas_retriever\u001b[0m\u001b[0;34m(\u001b[0m\u001b[0msearch_type\u001b[0m\u001b[0;34m=\u001b[0m\u001b[0;34m'similarity'\u001b[0m\u001b[0;34m,\u001b[0m\u001b[0msearch_kwargs\u001b[0m\u001b[0;34m=\u001b[0m\u001b[0;34m{\u001b[0m\u001b[0;34m'k'\u001b[0m\u001b[0;34m:\u001b[0m \u001b[0;36m3\u001b[0m\u001b[0;34m}\u001b[0m\u001b[0;34m)\u001b[0m\u001b[0;34m\u001b[0m\u001b[0;34m\u001b[0m\u001b[0m\n\u001b[0m\u001b[1;32m      5\u001b[0m \u001b[0mchain\u001b[0m \u001b[0;34m=\u001b[0m \u001b[0mRetrievalQA\u001b[0m\u001b[0;34m.\u001b[0m\u001b[0mfrom_chain_type\u001b[0m\u001b[0;34m(\u001b[0m\u001b[0mllm\u001b[0m\u001b[0;34m=\u001b[0m\u001b[0mllm\u001b[0m\u001b[0;34m,\u001b[0m\u001b[0mchain_type\u001b[0m\u001b[0;34m=\u001b[0m\u001b[0;34m'stuff'\u001b[0m\u001b[0;34m,\u001b[0m\u001b[0mretriever\u001b[0m\u001b[0;34m=\u001b[0m\u001b[0mretriever\u001b[0m\u001b[0;34m)\u001b[0m\u001b[0;34m\u001b[0m\u001b[0;34m\u001b[0m\u001b[0m\n",
            "\u001b[0;31mNameError\u001b[0m: name 'vector_stores' is not defined"
          ]
        }
      ]
    },
    {
      "cell_type": "code",
      "source": [
        "query = 'Answer only from the provided input. Where should we fight?'\n",
        "query=chain.invoke(query)\n",
        "print(answer)"
      ],
      "metadata": {
        "colab": {
          "base_uri": "https://localhost:8080/",
          "height": 183
        },
        "id": "4caLa7GpEDsz",
        "outputId": "33a1042f-7bf1-4fd9-bdf1-f2aab3e5c9e3"
      },
      "execution_count": 23,
      "outputs": [
        {
          "output_type": "error",
          "ename": "NameError",
          "evalue": "name 'chain' is not defined",
          "traceback": [
            "\u001b[0;31m---------------------------------------------------------------------------\u001b[0m",
            "\u001b[0;31mNameError\u001b[0m                                 Traceback (most recent call last)",
            "\u001b[0;32m/tmp/ipython-input-814976477.py\u001b[0m in \u001b[0;36m<cell line: 0>\u001b[0;34m()\u001b[0m\n\u001b[1;32m      1\u001b[0m \u001b[0mquery\u001b[0m \u001b[0;34m=\u001b[0m \u001b[0;34m'Answer only from the provided input. Where should we fight?'\u001b[0m\u001b[0;34m\u001b[0m\u001b[0;34m\u001b[0m\u001b[0m\n\u001b[0;32m----> 2\u001b[0;31m \u001b[0mquery\u001b[0m\u001b[0;34m=\u001b[0m\u001b[0mchain\u001b[0m\u001b[0;34m.\u001b[0m\u001b[0minvoke\u001b[0m\u001b[0;34m(\u001b[0m\u001b[0mquery\u001b[0m\u001b[0;34m)\u001b[0m\u001b[0;34m\u001b[0m\u001b[0;34m\u001b[0m\u001b[0m\n\u001b[0m\u001b[1;32m      3\u001b[0m \u001b[0mprint\u001b[0m\u001b[0;34m(\u001b[0m\u001b[0manswer\u001b[0m\u001b[0;34m)\u001b[0m\u001b[0;34m\u001b[0m\u001b[0;34m\u001b[0m\u001b[0m\n",
            "\u001b[0;31mNameError\u001b[0m: name 'chain' is not defined"
          ]
        }
      ]
    },
    {
      "cell_type": "code",
      "source": [
        "query = 'Who was the king of Belgium at that time?'\n",
        "answer = chain.invoke(query)\n",
        "print(answer)"
      ],
      "metadata": {
        "colab": {
          "base_uri": "https://localhost:8080/",
          "height": 183
        },
        "id": "-07nNphwEKUh",
        "outputId": "36937c98-3766-4527-ec74-1fbf3f66775c"
      },
      "execution_count": 24,
      "outputs": [
        {
          "output_type": "error",
          "ename": "NameError",
          "evalue": "name 'chain' is not defined",
          "traceback": [
            "\u001b[0;31m---------------------------------------------------------------------------\u001b[0m",
            "\u001b[0;31mNameError\u001b[0m                                 Traceback (most recent call last)",
            "\u001b[0;32m/tmp/ipython-input-4203928449.py\u001b[0m in \u001b[0;36m<cell line: 0>\u001b[0;34m()\u001b[0m\n\u001b[1;32m      1\u001b[0m \u001b[0mquery\u001b[0m \u001b[0;34m=\u001b[0m \u001b[0;34m'Who was the king of Belgium at that time?'\u001b[0m\u001b[0;34m\u001b[0m\u001b[0;34m\u001b[0m\u001b[0m\n\u001b[0;32m----> 2\u001b[0;31m \u001b[0manswer\u001b[0m \u001b[0;34m=\u001b[0m \u001b[0mchain\u001b[0m\u001b[0;34m.\u001b[0m\u001b[0minvoke\u001b[0m\u001b[0;34m(\u001b[0m\u001b[0mquery\u001b[0m\u001b[0;34m)\u001b[0m\u001b[0;34m\u001b[0m\u001b[0;34m\u001b[0m\u001b[0m\n\u001b[0m\u001b[1;32m      3\u001b[0m \u001b[0mprint\u001b[0m\u001b[0;34m(\u001b[0m\u001b[0manswer\u001b[0m\u001b[0;34m)\u001b[0m\u001b[0;34m\u001b[0m\u001b[0;34m\u001b[0m\u001b[0m\n",
            "\u001b[0;31mNameError\u001b[0m: name 'chain' is not defined"
          ]
        }
      ]
    },
    {
      "cell_type": "code",
      "source": [
        "query = 'What about the French Armies??'\n",
        "answer = chain.invoke(query)\n",
        "print(answer)"
      ],
      "metadata": {
        "colab": {
          "base_uri": "https://localhost:8080/",
          "height": 183
        },
        "id": "Pz9xhKs2ERAD",
        "outputId": "a6417f90-f199-4067-ae7a-bdc4b7a946de"
      },
      "execution_count": 25,
      "outputs": [
        {
          "output_type": "error",
          "ename": "NameError",
          "evalue": "name 'chain' is not defined",
          "traceback": [
            "\u001b[0;31m---------------------------------------------------------------------------\u001b[0m",
            "\u001b[0;31mNameError\u001b[0m                                 Traceback (most recent call last)",
            "\u001b[0;32m/tmp/ipython-input-4287489124.py\u001b[0m in \u001b[0;36m<cell line: 0>\u001b[0;34m()\u001b[0m\n\u001b[1;32m      1\u001b[0m \u001b[0mquery\u001b[0m \u001b[0;34m=\u001b[0m \u001b[0;34m'What about the French Armies??'\u001b[0m\u001b[0;34m\u001b[0m\u001b[0;34m\u001b[0m\u001b[0m\n\u001b[0;32m----> 2\u001b[0;31m \u001b[0manswer\u001b[0m \u001b[0;34m=\u001b[0m \u001b[0mchain\u001b[0m\u001b[0;34m.\u001b[0m\u001b[0minvoke\u001b[0m\u001b[0;34m(\u001b[0m\u001b[0mquery\u001b[0m\u001b[0;34m)\u001b[0m\u001b[0;34m\u001b[0m\u001b[0;34m\u001b[0m\u001b[0m\n\u001b[0m\u001b[1;32m      3\u001b[0m \u001b[0mprint\u001b[0m\u001b[0;34m(\u001b[0m\u001b[0manswer\u001b[0m\u001b[0;34m)\u001b[0m\u001b[0;34m\u001b[0m\u001b[0;34m\u001b[0m\u001b[0m\n",
            "\u001b[0;31mNameError\u001b[0m: name 'chain' is not defined"
          ]
        }
      ]
    }
  ]
}